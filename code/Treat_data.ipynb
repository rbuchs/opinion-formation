{
 "cells": [
  {
   "cell_type": "code",
   "execution_count": 3,
   "metadata": {},
   "outputs": [],
   "source": [
    "import numpy as np\n",
    "import glob"
   ]
  },
  {
   "cell_type": "code",
   "execution_count": 28,
   "metadata": {},
   "outputs": [],
   "source": [
    "output_path = '/Users/romainbuchs/Documents/ETHZ/Modelling and Simulating Social Systems/output'\n",
    "list_files = glob.glob('{0}/*'.format(output_path))"
   ]
  },
  {
   "cell_type": "code",
   "execution_count": 31,
   "metadata": {},
   "outputs": [
    {
     "data": {
      "text/plain": [
       "array([[  0., 130.,  16., ...,   0.,   0.,   0.],\n",
       "       [  0., 142.,  10., ...,   0.,   0.,   0.],\n",
       "       [  0., 140.,  13., ...,   0.,   0.,   0.],\n",
       "       ...,\n",
       "       [  0., 136.,  12., ...,   0.,   0.,   0.],\n",
       "       [  0., 122.,  20., ...,   0.,   0.,   0.],\n",
       "       [  0., 142.,  23., ...,   0.,   0.,   0.]])"
      ]
     },
     "execution_count": 31,
     "metadata": {},
     "output_type": "execute_result"
    }
   ],
   "source": [
    "np.load('/Users/romainbuchs/Documents/ETHZ/Modelling and Simulating Social Systems/output/ComponentsSize_phi_1.0.npy')"
   ]
  },
  {
   "cell_type": "code",
   "execution_count": 26,
   "metadata": {},
   "outputs": [],
   "source": [
    "n_iter=3\n",
    "all_results = []\n",
    "for i in range(n_iter):\n",
    "    all_results.append(np.load('{0}/componenents_number_phi1.0.npy'.format(output_path)))\n",
    "all_results = np.array(all_results)"
   ]
  },
  {
   "cell_type": "code",
   "execution_count": 27,
   "metadata": {},
   "outputs": [
    {
     "data": {
      "text/plain": [
       "(3, 3200)"
      ]
     },
     "execution_count": 27,
     "metadata": {},
     "output_type": "execute_result"
    }
   ],
   "source": [
    "all_results.shape"
   ]
  },
  {
   "cell_type": "code",
   "execution_count": null,
   "metadata": {},
   "outputs": [],
   "source": []
  }
 ],
 "metadata": {
  "kernelspec": {
   "display_name": "Python 3",
   "language": "python",
   "name": "python3"
  },
  "language_info": {
   "codemirror_mode": {
    "name": "ipython",
    "version": 3
   },
   "file_extension": ".py",
   "mimetype": "text/x-python",
   "name": "python",
   "nbconvert_exporter": "python",
   "pygments_lexer": "ipython3",
   "version": "3.6.6"
  }
 },
 "nbformat": 4,
 "nbformat_minor": 2
}
