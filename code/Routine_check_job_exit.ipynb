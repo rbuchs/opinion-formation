{
 "cells": [
  {
   "cell_type": "code",
   "execution_count": 1,
   "metadata": {},
   "outputs": [],
   "source": [
    "import numpy as np\n",
    "import glob \n",
    "\n",
    "output_dir = '/cluster/home/buchsr/output'"
   ]
  },
  {
   "cell_type": "code",
   "execution_count": 5,
   "metadata": {},
   "outputs": [
    {
     "name": "stdout",
     "output_type": "stream",
     "text": [
      "101\n"
     ]
    }
   ],
   "source": [
    "tag = 'fig3'\n",
    "batch = 7\n",
    "list_files = glob.glob('{0}/OpinionFormation_{1}_batch{2}_*'.format(output_dir, tag, batch))\n",
    "idx = [float(f.split('_')[-1].split('.')[0]) for f in list_files]\n",
    "print(len(list_files))"
   ]
  },
  {
   "cell_type": "code",
   "execution_count": 17,
   "metadata": {},
   "outputs": [
    {
     "name": "stdout",
     "output_type": "stream",
     "text": [
      "100\n"
     ]
    }
   ],
   "source": [
    "tag = 'scalefree'\n",
    "list_files = glob.glob('{0}/OpinionFormation_{1}_batch_n600*'.format(output_dir, tag, batch))\n",
    "idx = [float(f.split('_')[-1].split('.')[0]) for f in list_files]\n",
    "print(len(list_files))"
   ]
  },
  {
   "cell_type": "code",
   "execution_count": 14,
   "metadata": {
    "scrolled": true
   },
   "outputs": [
    {
     "data": {
      "text/plain": [
       "['/cluster/home/buchsr/output/OpinionFormation_scalefree_batch_n200_1.log',\n",
       " '/cluster/home/buchsr/output/OpinionFormation_scalefree_batch_n200_2.log',\n",
       " '/cluster/home/buchsr/output/OpinionFormation_scalefree_batch_n200_3.log',\n",
       " '/cluster/home/buchsr/output/OpinionFormation_scalefree_batch_n200_4.log',\n",
       " '/cluster/home/buchsr/output/OpinionFormation_scalefree_batch_n200_6.log',\n",
       " '/cluster/home/buchsr/output/OpinionFormation_scalefree_batch_n200_5.log',\n",
       " '/cluster/home/buchsr/output/OpinionFormation_scalefree_batch_n200_8.log',\n",
       " '/cluster/home/buchsr/output/OpinionFormation_scalefree_batch_n200_7.log',\n",
       " '/cluster/home/buchsr/output/OpinionFormation_scalefree_batch_n200_9.log',\n",
       " '/cluster/home/buchsr/output/OpinionFormation_scalefree_batch_n200_10.log',\n",
       " '/cluster/home/buchsr/output/OpinionFormation_scalefree_batch_n200_12.log',\n",
       " '/cluster/home/buchsr/output/OpinionFormation_scalefree_batch_n200_11.log',\n",
       " '/cluster/home/buchsr/output/OpinionFormation_scalefree_batch_n200_14.log',\n",
       " '/cluster/home/buchsr/output/OpinionFormation_scalefree_batch_n200_13.log',\n",
       " '/cluster/home/buchsr/output/OpinionFormation_scalefree_batch_n200_15.log',\n",
       " '/cluster/home/buchsr/output/OpinionFormation_scalefree_batch_n200_16.log',\n",
       " '/cluster/home/buchsr/output/OpinionFormation_scalefree_batch_n200_18.log',\n",
       " '/cluster/home/buchsr/output/OpinionFormation_scalefree_batch_n200_17.log',\n",
       " '/cluster/home/buchsr/output/OpinionFormation_scalefree_batch_n200_19.log',\n",
       " '/cluster/home/buchsr/output/OpinionFormation_scalefree_batch_n200_22.log',\n",
       " '/cluster/home/buchsr/output/OpinionFormation_scalefree_batch_n200_23.log',\n",
       " '/cluster/home/buchsr/output/OpinionFormation_scalefree_batch_n200_21.log',\n",
       " '/cluster/home/buchsr/output/OpinionFormation_scalefree_batch_n200_20.log',\n",
       " '/cluster/home/buchsr/output/OpinionFormation_scalefree_batch_n200_24.log',\n",
       " '/cluster/home/buchsr/output/OpinionFormation_scalefree_batch_n200_25.log',\n",
       " '/cluster/home/buchsr/output/OpinionFormation_scalefree_batch_n200_27.log',\n",
       " '/cluster/home/buchsr/output/OpinionFormation_scalefree_batch_n200_26.log',\n",
       " '/cluster/home/buchsr/output/OpinionFormation_scalefree_batch_n200_29.log',\n",
       " '/cluster/home/buchsr/output/OpinionFormation_scalefree_batch_n200_28.log',\n",
       " '/cluster/home/buchsr/output/OpinionFormation_scalefree_batch_n200_30.log',\n",
       " '/cluster/home/buchsr/output/OpinionFormation_scalefree_batch_n200_31.log',\n",
       " '/cluster/home/buchsr/output/OpinionFormation_scalefree_batch_n200_32.log',\n",
       " '/cluster/home/buchsr/output/OpinionFormation_scalefree_batch_n200_33.log',\n",
       " '/cluster/home/buchsr/output/OpinionFormation_scalefree_batch_n200_35.log',\n",
       " '/cluster/home/buchsr/output/OpinionFormation_scalefree_batch_n200_34.log',\n",
       " '/cluster/home/buchsr/output/OpinionFormation_scalefree_batch_n200_36.log',\n",
       " '/cluster/home/buchsr/output/OpinionFormation_scalefree_batch_n200_37.log',\n",
       " '/cluster/home/buchsr/output/OpinionFormation_scalefree_batch_n200_38.log',\n",
       " '/cluster/home/buchsr/output/OpinionFormation_scalefree_batch_n200_39.log',\n",
       " '/cluster/home/buchsr/output/OpinionFormation_scalefree_batch_n200_40.log',\n",
       " '/cluster/home/buchsr/output/OpinionFormation_scalefree_batch_n200_41.log',\n",
       " '/cluster/home/buchsr/output/OpinionFormation_scalefree_batch_n200_43.log',\n",
       " '/cluster/home/buchsr/output/OpinionFormation_scalefree_batch_n200_42.log',\n",
       " '/cluster/home/buchsr/output/OpinionFormation_scalefree_batch_n200_44.log',\n",
       " '/cluster/home/buchsr/output/OpinionFormation_scalefree_batch_n200_45.log',\n",
       " '/cluster/home/buchsr/output/OpinionFormation_scalefree_batch_n200_46.log',\n",
       " '/cluster/home/buchsr/output/OpinionFormation_scalefree_batch_n200_48.log',\n",
       " '/cluster/home/buchsr/output/OpinionFormation_scalefree_batch_n200_47.log',\n",
       " '/cluster/home/buchsr/output/OpinionFormation_scalefree_batch_n200_49.log',\n",
       " '/cluster/home/buchsr/output/OpinionFormation_scalefree_batch_n200_50.log',\n",
       " '/cluster/home/buchsr/output/OpinionFormation_scalefree_batch_n200_51.log',\n",
       " '/cluster/home/buchsr/output/OpinionFormation_scalefree_batch_n200_52.log',\n",
       " '/cluster/home/buchsr/output/OpinionFormation_scalefree_batch_n200_54.log',\n",
       " '/cluster/home/buchsr/output/OpinionFormation_scalefree_batch_n200_53.log',\n",
       " '/cluster/home/buchsr/output/OpinionFormation_scalefree_batch_n200_56.log',\n",
       " '/cluster/home/buchsr/output/OpinionFormation_scalefree_batch_n200_55.log',\n",
       " '/cluster/home/buchsr/output/OpinionFormation_scalefree_batch_n200_57.log',\n",
       " '/cluster/home/buchsr/output/OpinionFormation_scalefree_batch_n200_58.log',\n",
       " '/cluster/home/buchsr/output/OpinionFormation_scalefree_batch_n200_61.log',\n",
       " '/cluster/home/buchsr/output/OpinionFormation_scalefree_batch_n200_60.log',\n",
       " '/cluster/home/buchsr/output/OpinionFormation_scalefree_batch_n200_63.log',\n",
       " '/cluster/home/buchsr/output/OpinionFormation_scalefree_batch_n200_62.log',\n",
       " '/cluster/home/buchsr/output/OpinionFormation_scalefree_batch_n200_64.log',\n",
       " '/cluster/home/buchsr/output/OpinionFormation_scalefree_batch_n200_59.log',\n",
       " '/cluster/home/buchsr/output/OpinionFormation_scalefree_batch_n200_66.log',\n",
       " '/cluster/home/buchsr/output/OpinionFormation_scalefree_batch_n200_67.log',\n",
       " '/cluster/home/buchsr/output/OpinionFormation_scalefree_batch_n200_65.log',\n",
       " '/cluster/home/buchsr/output/OpinionFormation_scalefree_batch_n200_68.log',\n",
       " '/cluster/home/buchsr/output/OpinionFormation_scalefree_batch_n200_70.log',\n",
       " '/cluster/home/buchsr/output/OpinionFormation_scalefree_batch_n200_69.log',\n",
       " '/cluster/home/buchsr/output/OpinionFormation_scalefree_batch_n200_71.log',\n",
       " '/cluster/home/buchsr/output/OpinionFormation_scalefree_batch_n200_73.log',\n",
       " '/cluster/home/buchsr/output/OpinionFormation_scalefree_batch_n200_72.log',\n",
       " '/cluster/home/buchsr/output/OpinionFormation_scalefree_batch_n200_74.log',\n",
       " '/cluster/home/buchsr/output/OpinionFormation_scalefree_batch_n200_75.log',\n",
       " '/cluster/home/buchsr/output/OpinionFormation_scalefree_batch_n200_76.log',\n",
       " '/cluster/home/buchsr/output/OpinionFormation_scalefree_batch_n200_77.log',\n",
       " '/cluster/home/buchsr/output/OpinionFormation_scalefree_batch_n200_78.log',\n",
       " '/cluster/home/buchsr/output/OpinionFormation_scalefree_batch_n200_79.log',\n",
       " '/cluster/home/buchsr/output/OpinionFormation_scalefree_batch_n200_80.log',\n",
       " '/cluster/home/buchsr/output/OpinionFormation_scalefree_batch_n200_81.log',\n",
       " '/cluster/home/buchsr/output/OpinionFormation_scalefree_batch_n200_82.log',\n",
       " '/cluster/home/buchsr/output/OpinionFormation_scalefree_batch_n200_84.log',\n",
       " '/cluster/home/buchsr/output/OpinionFormation_scalefree_batch_n200_85.log',\n",
       " '/cluster/home/buchsr/output/OpinionFormation_scalefree_batch_n200_83.log',\n",
       " '/cluster/home/buchsr/output/OpinionFormation_scalefree_batch_n200_88.log',\n",
       " '/cluster/home/buchsr/output/OpinionFormation_scalefree_batch_n200_86.log',\n",
       " '/cluster/home/buchsr/output/OpinionFormation_scalefree_batch_n200_87.log',\n",
       " '/cluster/home/buchsr/output/OpinionFormation_scalefree_batch_n200_89.log',\n",
       " '/cluster/home/buchsr/output/OpinionFormation_scalefree_batch_n200_90.log',\n",
       " '/cluster/home/buchsr/output/OpinionFormation_scalefree_batch_n200_91.log',\n",
       " '/cluster/home/buchsr/output/OpinionFormation_scalefree_batch_n200_92.log',\n",
       " '/cluster/home/buchsr/output/OpinionFormation_scalefree_batch_n200_93.log',\n",
       " '/cluster/home/buchsr/output/OpinionFormation_scalefree_batch_n200_97.log',\n",
       " '/cluster/home/buchsr/output/OpinionFormation_scalefree_batch_n200_95.log',\n",
       " '/cluster/home/buchsr/output/OpinionFormation_scalefree_batch_n200_94.log',\n",
       " '/cluster/home/buchsr/output/OpinionFormation_scalefree_batch_n200_96.log',\n",
       " '/cluster/home/buchsr/output/OpinionFormation_scalefree_batch_n200_98.log',\n",
       " '/cluster/home/buchsr/output/OpinionFormation_scalefree_batch_n200_99.log',\n",
       " '/cluster/home/buchsr/output/OpinionFormation_scalefree_batch_n200_100.log',\n",
       " '/cluster/home/buchsr/output/OpinionFormation_scalefree_batch_n200_101.log']"
      ]
     },
     "execution_count": 14,
     "metadata": {},
     "output_type": "execute_result"
    }
   ],
   "source": [
    "list_files"
   ]
  },
  {
   "cell_type": "code",
   "execution_count": 6,
   "metadata": {
    "scrolled": true
   },
   "outputs": [],
   "source": [
    "exit = []\n",
    "for i, f in zip(idx, list_files):\n",
    "    with open(f) as file:  \n",
    "        data = file.read()\n",
    "        if ('exit' or 'Exit') in data:\n",
    "            exit.append(int(i))"
   ]
  },
  {
   "cell_type": "code",
   "execution_count": 7,
   "metadata": {},
   "outputs": [
    {
     "data": {
      "text/plain": [
       "array([], dtype=float64)"
      ]
     },
     "execution_count": 7,
     "metadata": {},
     "output_type": "execute_result"
    }
   ],
   "source": [
    "np.array(np.sort(exit))"
   ]
  },
  {
   "cell_type": "code",
   "execution_count": 12,
   "metadata": {},
   "outputs": [
    {
     "data": {
      "text/plain": [
       "18"
      ]
     },
     "execution_count": 12,
     "metadata": {},
     "output_type": "execute_result"
    }
   ],
   "source": [
    "len(exit)"
   ]
  },
  {
   "cell_type": "code",
   "execution_count": null,
   "metadata": {},
   "outputs": [],
   "source": []
  }
 ],
 "metadata": {
  "kernelspec": {
   "display_name": "Python 3",
   "language": "python",
   "name": "python3"
  },
  "language_info": {
   "codemirror_mode": {
    "name": "ipython",
    "version": 3
   },
   "file_extension": ".py",
   "mimetype": "text/x-python",
   "name": "python",
   "nbconvert_exporter": "python",
   "pygments_lexer": "ipython3",
   "version": "3.7.0"
  }
 },
 "nbformat": 4,
 "nbformat_minor": 2
}
