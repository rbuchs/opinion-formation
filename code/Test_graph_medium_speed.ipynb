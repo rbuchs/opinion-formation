{
 "cells": [
  {
   "cell_type": "code",
   "execution_count": 2,
   "metadata": {},
   "outputs": [],
   "source": [
    "#Import the relevant modules\n",
    "import networkx as nx\n",
    "import matplotlib.pyplot as plt\n",
    "import numpy as np\n",
    "import time\n",
    "\n",
    "import OpinionGraph\n",
    "import OpinionAlgorithm"
   ]
  },
  {
   "cell_type": "code",
   "execution_count": 3,
   "metadata": {},
   "outputs": [],
   "source": [
    "def log(t0, text):\n",
    "    print(time.time()-t0, text)"
   ]
  },
  {
   "cell_type": "code",
   "execution_count": 4,
   "metadata": {},
   "outputs": [
    {
     "name": "stdout",
     "output_type": "stream",
     "text": [
      "Total number of components: 29\n",
      "Components size: Counter({1: 28, 1572: 1})\n",
      "All components in consensus: False\n",
      "Consensus reached: False\n",
      "Percentage of nodes in components in consensus state: 0.0175\n"
     ]
    }
   ],
   "source": [
    "n = 1600\n",
    "m = 3200\n",
    "gamma = 10\n",
    "n_opinion = int(n/gamma)\n",
    "G = OpinionGraph.CreateRandom(n, m, n_opinion)\n",
    "G.summary()"
   ]
  },
  {
   "cell_type": "code",
   "execution_count": 14,
   "metadata": {},
   "outputs": [],
   "source": [
    "def compute(phi, checkconsensus, simple_graph, verbose=False):\n",
    "    if verbose:\n",
    "        t0 = time.time()\n",
    "    G = OpinionGraph.CreateRandom(n, m, n_opinion, simple_graph)\n",
    "    n_steps = OpinionAlgorithm.SimulationEndConsensus(G, phi, verbose=False, checkconsensus=checkconsensus)\n",
    "    if verbose:\n",
    "        log(t0, 'Time taken with {0} steps'.format(n_steps))\n",
    "        G.summary()"
   ]
  },
  {
   "cell_type": "markdown",
   "metadata": {},
   "source": [
    "Multigraph"
   ]
  },
  {
   "cell_type": "code",
   "execution_count": 5,
   "metadata": {
    "scrolled": false
   },
   "outputs": [
    {
     "name": "stdout",
     "output_type": "stream",
     "text": [
      "1.71 s ± 185 ms per loop (mean ± std. dev. of 7 runs, 1 loop each)\n"
     ]
    }
   ],
   "source": [
    "%timeit compute(1, 1000, False)"
   ]
  },
  {
   "cell_type": "code",
   "execution_count": 6,
   "metadata": {},
   "outputs": [
    {
     "name": "stdout",
     "output_type": "stream",
     "text": [
      "1.65 s ± 139 ms per loop (mean ± std. dev. of 7 runs, 1 loop each)\n"
     ]
    }
   ],
   "source": [
    "%timeit compute(1, 10000, False)"
   ]
  },
  {
   "cell_type": "code",
   "execution_count": 7,
   "metadata": {},
   "outputs": [
    {
     "name": "stdout",
     "output_type": "stream",
     "text": [
      "2 s ± 430 ms per loop (mean ± std. dev. of 7 runs, 1 loop each)\n"
     ]
    }
   ],
   "source": [
    "%timeit compute(1, 100000, False)"
   ]
  },
  {
   "cell_type": "code",
   "execution_count": 10,
   "metadata": {},
   "outputs": [
    {
     "name": "stdout",
     "output_type": "stream",
     "text": [
      "2.16 s ± 620 ms per loop (mean ± std. dev. of 7 runs, 1 loop each)\n"
     ]
    }
   ],
   "source": [
    "%timeit compute(0.96, 1000, False)"
   ]
  },
  {
   "cell_type": "code",
   "execution_count": 8,
   "metadata": {},
   "outputs": [
    {
     "name": "stdout",
     "output_type": "stream",
     "text": [
      "2.26 s ± 414 ms per loop (mean ± std. dev. of 7 runs, 1 loop each)\n"
     ]
    }
   ],
   "source": [
    "%timeit compute(0.96, 10000, False)"
   ]
  },
  {
   "cell_type": "code",
   "execution_count": 11,
   "metadata": {
    "scrolled": true
   },
   "outputs": [
    {
     "name": "stdout",
     "output_type": "stream",
     "text": [
      "29.14349627494812 Time taken with 479340 steps\n",
      "Total number of components: 157\n",
      "Components size: Counter({1: 43, 3: 15, 5: 12, 2: 9, 4: 8, 6: 8, 7: 7, 10: 5, 17: 4, 15: 4, 11: 3, 14: 3, 9: 3, 36: 2, 19: 2, 23: 2, 34: 2, 20: 2, 24: 2, 43: 2, 18: 2, 21: 2, 42: 1, 28: 1, 40: 1, 64: 1, 48: 1, 78: 1, 27: 1, 53: 1, 33: 1, 55: 1, 32: 1, 12: 1, 8: 1, 13: 1, 16: 1})\n",
      "All components in consensus: True\n",
      "Consensus reached: True\n",
      "Percentage of nodes in components in consensus state: 1.0\n"
     ]
    }
   ],
   "source": [
    "compute(0.458, 1000, False, True)"
   ]
  },
  {
   "cell_type": "code",
   "execution_count": 17,
   "metadata": {
    "scrolled": true
   },
   "outputs": [
    {
     "name": "stdout",
     "output_type": "stream",
     "text": [
      "765.27454662323 Time taken with 8440029 steps\n",
      "Total number of components: 66\n",
      "Components size: Counter({1: 57, 2: 6, 1524: 1, 4: 1, 3: 1})\n",
      "All components in consensus: True\n",
      "Consensus reached: True\n",
      "Percentage of nodes in components in consensus state: 1.0\n"
     ]
    }
   ],
   "source": [
    "compute(0.04, 1000, False, True)"
   ]
  },
  {
   "cell_type": "code",
   "execution_count": 16,
   "metadata": {},
   "outputs": [
    {
     "name": "stdout",
     "output_type": "stream",
     "text": [
      "62.373539209365845 Time taken with 1962108 steps\n",
      "Total number of components: 33\n",
      "Components size: Counter({1: 31, 1567: 1, 2: 1})\n",
      "All components in consensus: True\n",
      "Consensus reached: True\n",
      "Percentage of nodes in components in consensus state: 1.0\n"
     ]
    }
   ],
   "source": [
    "compute(0, 1000, False, True)"
   ]
  },
  {
   "cell_type": "markdown",
   "metadata": {},
   "source": [
    "Simple graph"
   ]
  },
  {
   "cell_type": "code",
   "execution_count": null,
   "metadata": {},
   "outputs": [],
   "source": [
    "compute(0, 1000, True, True)"
   ]
  },
  {
   "cell_type": "code",
   "execution_count": null,
   "metadata": {},
   "outputs": [],
   "source": []
  }
 ],
 "metadata": {
  "kernelspec": {
   "display_name": "Python 3",
   "language": "python",
   "name": "python3"
  },
  "language_info": {
   "codemirror_mode": {
    "name": "ipython",
    "version": 3
   },
   "file_extension": ".py",
   "mimetype": "text/x-python",
   "name": "python",
   "nbconvert_exporter": "python",
   "pygments_lexer": "ipython3",
   "version": "3.7.0"
  }
 },
 "nbformat": 4,
 "nbformat_minor": 2
}
