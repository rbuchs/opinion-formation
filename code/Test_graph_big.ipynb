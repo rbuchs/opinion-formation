{
 "cells": [
  {
   "cell_type": "code",
   "execution_count": 2,
   "metadata": {},
   "outputs": [],
   "source": [
    "#Import the relevant modules\n",
    "import networkx as nx\n",
    "import matplotlib.pyplot as plt\n",
    "import numpy as np\n",
    "import time\n",
    "\n",
    "import OpinionGraph\n",
    "import OpinionAlgorithm"
   ]
  },
  {
   "cell_type": "code",
   "execution_count": 3,
   "metadata": {},
   "outputs": [],
   "source": [
    "def log(t0, text):\n",
    "    print(time.time()-t0, text)"
   ]
  },
  {
   "cell_type": "code",
   "execution_count": 4,
   "metadata": {},
   "outputs": [
    {
     "name": "stdout",
     "output_type": "stream",
     "text": [
      "Total number of components: 52\n",
      "Components size: Counter({1: 48, 2: 3, 3146: 1})\n",
      "All components in consensus: False\n",
      "Consensus reached: False\n",
      "Percentage of nodes in components in consensus state: 0.015\n"
     ]
    }
   ],
   "source": [
    "n = 3200\n",
    "m = 6400\n",
    "gamma = 10\n",
    "n_opinion = int(n/gamma)\n",
    "G = OpinionGraph.CreateRandom(n, m, n_opinion)\n",
    "G.summary()"
   ]
  },
  {
   "cell_type": "code",
   "execution_count": 5,
   "metadata": {},
   "outputs": [],
   "source": [
    "def compute(phi, checkconsensus, simple_graph, verbose=False):\n",
    "    if verbose:\n",
    "        t0 = time.time()\n",
    "    G = OpinionGraph.CreateRandom(n, m, n_opinion, simple_graph)\n",
    "    n_steps = OpinionAlgorithm.SimulationEndConsensus(G, phi, verbose=False, checkconsensus=checkconsensus)\n",
    "    if verbose:\n",
    "        log(t0, 'Time taken with {0} steps'.format(n_steps))\n",
    "        G.summary()"
   ]
  },
  {
   "cell_type": "code",
   "execution_count": 5,
   "metadata": {
    "scrolled": false
   },
   "outputs": [
    {
     "name": "stdout",
     "output_type": "stream",
     "text": [
      "4.65 s ± 519 ms per loop (mean ± std. dev. of 7 runs, 1 loop each)\n"
     ]
    }
   ],
   "source": [
    "%timeit compute(1, 1000, False)"
   ]
  },
  {
   "cell_type": "code",
   "execution_count": 10,
   "metadata": {},
   "outputs": [
    {
     "name": "stdout",
     "output_type": "stream",
     "text": [
      "4.79 s ± 512 ms per loop (mean ± std. dev. of 7 runs, 1 loop each)\n"
     ]
    }
   ],
   "source": [
    "%timeit compute(1, 10000, False)"
   ]
  },
  {
   "cell_type": "code",
   "execution_count": 11,
   "metadata": {},
   "outputs": [
    {
     "name": "stdout",
     "output_type": "stream",
     "text": [
      "4.95 s ± 491 ms per loop (mean ± std. dev. of 7 runs, 1 loop each)\n"
     ]
    }
   ],
   "source": [
    "%timeit compute(0.96, 1000, False)"
   ]
  },
  {
   "cell_type": "code",
   "execution_count": 12,
   "metadata": {},
   "outputs": [
    {
     "name": "stdout",
     "output_type": "stream",
     "text": [
      "5.3 s ± 636 ms per loop (mean ± std. dev. of 7 runs, 1 loop each)\n"
     ]
    }
   ],
   "source": [
    "%timeit compute(0.96, 10000, False)"
   ]
  },
  {
   "cell_type": "code",
   "execution_count": 6,
   "metadata": {
    "scrolled": true
   },
   "outputs": [
    {
     "name": "stdout",
     "output_type": "stream",
     "text": [
      "191.85115957260132 Time taken with 2496605 steps\n",
      "Total number of components: 309\n",
      "Components size: Counter({1: 82, 3: 27, 2: 26, 5: 17, 8: 13, 4: 13, 7: 12, 14: 10, 11: 9, 6: 9, 12: 9, 9: 9, 10: 8, 19: 6, 26: 6, 15: 4, 16: 4, 22: 3, 34: 3, 18: 3, 20: 2, 37: 2, 21: 2, 17: 2, 55: 2, 44: 2, 31: 2, 33: 2, 13: 2, 35: 2, 30: 2, 164: 1, 29: 1, 28: 1, 75: 1, 42: 1, 46: 1, 122: 1, 25: 1, 93: 1, 56: 1, 23: 1, 48: 1, 27: 1, 32: 1})\n",
      "All components in consensus: True\n",
      "Consensus reached: True\n",
      "Percentage of nodes in components in consensus state: 1.0\n"
     ]
    }
   ],
   "source": [
    "compute(0.458, 1000, False, True)"
   ]
  },
  {
   "cell_type": "code",
   "execution_count": null,
   "metadata": {
    "scrolled": true
   },
   "outputs": [],
   "source": [
    "compute(0.04, 1000, False, True)"
   ]
  },
  {
   "cell_type": "code",
   "execution_count": 7,
   "metadata": {},
   "outputs": [
    {
     "name": "stdout",
     "output_type": "stream",
     "text": [
      "300.4601836204529 Time taken with 6453705 steps\n",
      "Total number of components: 58\n",
      "Components size: Counter({1: 56, 3142: 1, 2: 1})\n",
      "All components in consensus: True\n",
      "Consensus reached: True\n",
      "Percentage of nodes in components in consensus state: 1.0\n"
     ]
    }
   ],
   "source": [
    "compute(0, 1000, False, True)"
   ]
  },
  {
   "cell_type": "code",
   "execution_count": null,
   "metadata": {},
   "outputs": [],
   "source": []
  }
 ],
 "metadata": {
  "kernelspec": {
   "display_name": "Python 3",
   "language": "python",
   "name": "python3"
  },
  "language_info": {
   "codemirror_mode": {
    "name": "ipython",
    "version": 3
   },
   "file_extension": ".py",
   "mimetype": "text/x-python",
   "name": "python",
   "nbconvert_exporter": "python",
   "pygments_lexer": "ipython3",
   "version": "3.7.0"
  }
 },
 "nbformat": 4,
 "nbformat_minor": 2
}
