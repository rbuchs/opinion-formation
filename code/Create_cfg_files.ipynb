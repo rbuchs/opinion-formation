{
 "cells": [
  {
   "cell_type": "code",
   "execution_count": 1,
   "metadata": {},
   "outputs": [],
   "source": [
    "import numpy as np\n",
    "\n",
    "n = 3200\n",
    "m = 6400\n",
    "gamma = 10\n",
    "tag = 'fig2'\n",
    "#phis =  np.arange(0,1.01,0.01)\n",
    "phis = [0.04, 0.458, 0.96]\n",
    "output_dir = '/cluster/home/buchsr/opinion-formation/cfg_files'"
   ]
  },
  {
   "cell_type": "code",
   "execution_count": 2,
   "metadata": {},
   "outputs": [
    {
     "data": {
      "text/plain": [
       "[0.04, 0.458, 0.96]"
      ]
     },
     "execution_count": 2,
     "metadata": {},
     "output_type": "execute_result"
    }
   ],
   "source": [
    "phis"
   ]
  },
  {
   "cell_type": "code",
   "execution_count": 3,
   "metadata": {
    "scrolled": true
   },
   "outputs": [
    {
     "name": "stdout",
     "output_type": "stream",
     "text": [
      "/cluster/home/buchsr/opinion-formation/cfg_files/Run_fig2_n3200_m6400_gamma10_1.cfg\n",
      "/cluster/home/buchsr/opinion-formation/cfg_files/Run_fig2_n3200_m6400_gamma10_2.cfg\n",
      "/cluster/home/buchsr/opinion-formation/cfg_files/Run_fig2_n3200_m6400_gamma10_3.cfg\n"
     ]
    }
   ],
   "source": [
    "for i, phi in enumerate(phis):\n",
    "    filename = '{0}/Run_{5}_n{1}_m{2}_gamma{3}_{4}.cfg'.format(output_dir, n, m, gamma, i+1, tag)\n",
    "    print(filename)\n",
    "    file_object  = open(filename, 'w')\n",
    "    string =  \"n : {0}\\n\".format(n) + \"m : {0}\\n\".format(m) + \"gamma : {0}\\n\".format(gamma) + \"phi : {0}\\n\".format(phi) + \"tag : {0}\".format(tag)\n",
    "    file_object.write(string)\n",
    "    file_object.close()"
   ]
  },
  {
   "cell_type": "code",
   "execution_count": null,
   "metadata": {},
   "outputs": [],
   "source": []
  }
 ],
 "metadata": {
  "kernelspec": {
   "display_name": "Python 3",
   "language": "python",
   "name": "python3"
  },
  "language_info": {
   "codemirror_mode": {
    "name": "ipython",
    "version": 3
   },
   "file_extension": ".py",
   "mimetype": "text/x-python",
   "name": "python",
   "nbconvert_exporter": "python",
   "pygments_lexer": "ipython3",
   "version": "3.7.0"
  }
 },
 "nbformat": 4,
 "nbformat_minor": 2
}
