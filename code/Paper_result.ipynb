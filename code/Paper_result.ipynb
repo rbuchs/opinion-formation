{
 "cells": [
  {
   "cell_type": "code",
   "execution_count": 1,
   "metadata": {},
   "outputs": [],
   "source": [
    "#Import the relevant modules\n",
    "import networkx as nx\n",
    "import matplotlib.pyplot as plt\n",
    "import numpy as np\n",
    "\n",
    "import OpinionGraph\n",
    "import OpinionAlgorithm"
   ]
  },
  {
   "cell_type": "code",
   "execution_count": 2,
   "metadata": {},
   "outputs": [],
   "source": [
    "n = 3200\n",
    "m = 6400\n",
    "gamma = 10\n",
    "n_opinion = int(n/gamma)\n",
    "G = OpinionGraph.CreateRandom(n, m, n_opinion)"
   ]
  },
  {
   "cell_type": "code",
   "execution_count": 5,
   "metadata": {},
   "outputs": [
    {
     "name": "stdout",
     "output_type": "stream",
     "text": [
      "55\n",
      "Counter({1: 52, 2: 2, 3144: 1})\n",
      "[False, True, False, True, True, True, True, False, True, True, True, True, True, True, True, True, True, True, True, True, True, True, True, True, True, True, True, True, True, True, True, True, True, True, True, True, True, True, True, True, True, True, True, True, True, True, True, True, True, True, True, True, True, True, True]\n"
     ]
    }
   ],
   "source": [
    "# Number of components\n",
    "print(OpinionGraph.NComponents(G))\n",
    "# Count of components\n",
    "print(OpinionGraph.CountComponents(G))\n",
    "# Bool for consensus state in each component\n",
    "print(OpinionGraph.ConsensusState(G))"
   ]
  },
  {
   "cell_type": "code",
   "execution_count": 12,
   "metadata": {},
   "outputs": [],
   "source": [
    "phi_s = [0.04, 0.458, 0.96] \n",
    "n_step = 1000"
   ]
  },
  {
   "cell_type": "code",
   "execution_count": 14,
   "metadata": {},
   "outputs": [
    {
     "name": "stdout",
     "output_type": "stream",
     "text": [
      "Phi 0.04\n",
      "Components Counter({1: 53, 2: 2, 3143: 1})\n",
      "All component in consensus state False\n",
      "Phi 0.458\n",
      "Components Counter({1: 50, 3148: 1, 2: 1})\n",
      "All component in consensus state False\n",
      "Phi 0.96\n",
      "Components Counter({1: 63, 2: 2, 3130: 1, 3: 1})\n",
      "All component in consensus state False\n"
     ]
    }
   ],
   "source": [
    "for phi in phi_s:\n",
    "    print('Phi', phi)\n",
    "    current_graph = G.copy()\n",
    "    OpinionAlgorithm.Simulation(current_graph, phi, n_step)\n",
    "    print('Components', OpinionGraph.CountComponents(current_graph))\n",
    "    print('All component in consensus state: ', np.array(OpinionGraph.ConsensusState(current_graph)).all())"
   ]
  },
  {
   "cell_type": "code",
   "execution_count": null,
   "metadata": {},
   "outputs": [],
   "source": []
  }
 ],
 "metadata": {
  "kernelspec": {
   "display_name": "Python 3",
   "language": "python",
   "name": "python3"
  },
  "language_info": {
   "codemirror_mode": {
    "name": "ipython",
    "version": 3
   },
   "file_extension": ".py",
   "mimetype": "text/x-python",
   "name": "python",
   "nbconvert_exporter": "python",
   "pygments_lexer": "ipython3",
   "version": "3.6.6"
  }
 },
 "nbformat": 4,
 "nbformat_minor": 2
}
